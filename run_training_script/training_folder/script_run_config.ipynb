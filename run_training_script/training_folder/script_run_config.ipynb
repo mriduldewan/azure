{
  "cells": [
    {
      "cell_type": "markdown",
      "source": [
        "To run the script, create a **ScriptRunConfig** that references the folder and script file. The script also uses Azure Machine Learning to log metrics, so you need to remember to include the azureml-defaults package in the environment."
      ],
      "metadata": {
        "nteract": {
          "transient": {
            "deleting": false
          }
        }
      }
    },
    {
      "cell_type": "code",
      "source": [
        "from azureml.core import Experiment, ScriptRunConfig, Environment\n",
        "from azureml.core.conda_dependencies import CondaDependencies\n",
        "from azureml.core import Workspace\n",
        "\n",
        "ws = Workspace.from_config()"
      ],
      "outputs": [],
      "execution_count": 1,
      "metadata": {
        "jupyter": {
          "source_hidden": false,
          "outputs_hidden": false
        },
        "nteract": {
          "transient": {
            "deleting": false
          }
        },
        "gather": {
          "logged": 1712454896874
        }
      }
    },
    {
      "cell_type": "code",
      "source": [
        "\n",
        "# Create a Python environment for the experiment\n",
        "sklearn_env = Environment(\"sklearn-env\")\n",
        "\n",
        "# Ensure the required packages are installed\n",
        "packages = CondaDependencies.create(conda_packages=['scikit-learn','pip'],\n",
        "                                    pip_packages=['azureml-defaults'])\n",
        "sklearn_env.python.conda_dependencies = packages\n"
      ],
      "outputs": [],
      "execution_count": 3,
      "metadata": {
        "jupyter": {
          "source_hidden": false,
          "outputs_hidden": false
        },
        "nteract": {
          "transient": {
            "deleting": false
          }
        },
        "gather": {
          "logged": 1712454913119
        }
      }
    },
    {
      "cell_type": "code",
      "source": [
        "\n",
        "# Create a script config\n",
        "script_config = ScriptRunConfig(source_directory='../training_folder',\n",
        "                                script='training.py',\n",
        "                                environment=sklearn_env) \n"
      ],
      "outputs": [],
      "execution_count": 6,
      "metadata": {
        "jupyter": {
          "source_hidden": false,
          "outputs_hidden": false
        },
        "nteract": {
          "transient": {
            "deleting": false
          }
        },
        "gather": {
          "logged": 1712454966178
        }
      }
    },
    {
      "cell_type": "code",
      "source": [
        "\n",
        "# Submit the experiment\n",
        "experiment = Experiment(workspace=ws, name='training-experiment')\n",
        "run = experiment.submit(config=script_config)\n",
        "run.wait_for_completion()"
      ],
      "outputs": [],
      "execution_count": 7,
      "metadata": {
        "jupyter": {
          "source_hidden": false,
          "outputs_hidden": false
        },
        "nteract": {
          "transient": {
            "deleting": false
          }
        },
        "gather": {
          "logged": 1712454931773
        }
      }
    },
    {
      "cell_type": "code",
      "source": [],
      "outputs": [],
      "execution_count": null,
      "metadata": {
        "jupyter": {
          "source_hidden": false,
          "outputs_hidden": false
        },
        "nteract": {
          "transient": {
            "deleting": false
          }
        }
      }
    }
  ],
  "metadata": {
    "kernelspec": {
      "name": "python310-sdkv2",
      "language": "python",
      "display_name": "Python 3.10 - SDK v2"
    },
    "language_info": {
      "name": "python",
      "version": "3.10.11",
      "mimetype": "text/x-python",
      "codemirror_mode": {
        "name": "ipython",
        "version": 3
      },
      "pygments_lexer": "ipython3",
      "nbconvert_exporter": "python",
      "file_extension": ".py"
    },
    "microsoft": {
      "ms_spell_check": {
        "ms_spell_check_language": "en"
      },
      "host": {
        "AzureML": {
          "notebookHasBeenCompleted": true
        }
      }
    },
    "kernel_info": {
      "name": "python310-sdkv2"
    },
    "nteract": {
      "version": "nteract-front-end@1.0.0"
    }
  },
  "nbformat": 4,
  "nbformat_minor": 2
}